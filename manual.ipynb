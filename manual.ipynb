{
 "cells": [
  {
   "cell_type": "code",
   "execution_count": 16,
   "id": "fced2b1b",
   "metadata": {},
   "outputs": [],
   "source": [
    "import numpy as np\n",
    "import matplotlib.pyplot as plt"
   ]
  },
  {
   "cell_type": "markdown",
   "id": "133763d2-54e3-4203-9eda-b3b9f4defb46",
   "metadata": {},
   "source": [
    "# Initialising pQCD"
   ]
  },
  {
   "cell_type": "markdown",
   "id": "d11bc012-b776-46d7-9dc0-5ae091a6c759",
   "metadata": {},
   "source": [
    "The pQCD class can be initialised by specifying the parameter $X$, which is related to renormalisation scale $\\bar{\\Lambda}$ as $X = \\bar{\\Lambda}/(2\\mu_H)$. The central scale is considered to be $X=1$. The estimation of missing-higher-order (MHO) terms can be obtained by varying $X$ in the range [1/2,2].\n",
    "\n",
    "The pQCD class contains several functions: \n",
    "1. `pressure`, calculates the pressure p in GeV/fm$^3$\n",
    "2. `number_density`, calculates the number density $n$ in fm$^{-3}$\n",
    "3. `edens`, calculates the energy density $\\epsilon$ in GeV/fm$^3$\n",
    "4. `speed2`, calculates the sound speed squared $c^2_s$ in units with the speed of light $c = 1$\n",
    "\n",
    "These are all functions of the baryon chemical potential $\\mu$ given in GeV. The results are taken from [3]."
   ]
  },
  {
   "cell_type": "code",
   "execution_count": 17,
   "id": "932b4ccd-bbfc-4b7b-b2b9-99ee0c3b0977",
   "metadata": {},
   "outputs": [
    {
     "data": {
      "image/png": "[encoded data removed]",
      "text/plain": [
       "<Figure size 432x288 with 1 Axes>"
      ]
     },
     "metadata": {
      "needs_background": "light"
     },
     "output_type": "display_data"
    }
   ],
   "source": [
    "from pQCD import pQCD\n",
    "\n",
    "mu_grid = np.linspace(2.0,3,100) #Grid in chemical potential in [GeV]\n",
    "\n",
    "pQCD1 = pQCD(1/2) #X=1/2 \n",
    "pQCD2 = pQCD(2) #X=2 \n",
    "\n",
    "plt.fill_between(mu_grid,np.vectorize(pQCD1.pressure)(mu_grid),np.vectorize(pQCD2.pressure)(mu_grid))\n",
    "plt.yscale('log')\n",
    "plt.ylabel('Pressure p [GeV/fm$^3$]')\n",
    "plt.xlabel('Chemical potential $\\mu$ [GeV]')\n",
    "plt.title('Partial N3LO QCD EoS with scale variation X = [1/2,2]')\n",
    "plt.show()"
   ]
  },
  {
   "cell_type": "markdown",
   "id": "360b574a-28ee-4440-b355-6cd061188cc1",
   "metadata": {},
   "source": [
    "# Check consistency of EoS with QCD constraints\n",
    "\n",
    "The pQCD class also contains function `constraints`. This function checks whether the given point can be connected to the QCD limit in a casual and consistent way as defined in [1] and [2]. \n",
    "\n",
    "The input is `(e0, p0, n0, muQCD = 2.6, cs2=1)`, where `e0, p0, n0` is the given point you check. Here\n",
    "* `e0` is the energy density in GeV/fm$^3$, \n",
    "* `p0` is pressure in GeV/fm$^3$, \n",
    "* `n0` is number density in fm$^{-3}$,\n",
    "\n",
    "and the optional parameters are\n",
    "* `muQCD`, the fixed scale $\\mu_H$, with default value `muQCD` = 2.6 GeV, as discussed in [2]. \n",
    "* `cs2` is the (maximal) limiting value of the sound speed squared between the point you check and `muQCD`, with the default value taken to be 1. "
   ]
  },
  {
   "cell_type": "code",
   "execution_count": 18,
   "id": "193503e4-92a5-4f8f-908b-15f72fb7730f",
   "metadata": {},
   "outputs": [
    {
     "name": "stdout",
     "output_type": "stream",
     "text": [
      "Check consistency of the point e = 1.1 GeV/fm3, p = 1.0 GeV/fm3 and n = 5ns :  False\n",
      "Check consistency of the point e = 1.0 GeV/fm3, p = 0.6 GeV/fm3 and n = 5ns :  True\n",
      "Check consistency of the point e = 1.0 GeV/fm3, p = 0.3 GeV/fm3 and n = 5ns :  True\n"
     ]
    }
   ],
   "source": [
    "from pQCD import pQCD\n",
    "pQCD = pQCD(1)\n",
    "print('Check consistency of the point e = 1.1 GeV/fm3, p = 1.0 GeV/fm3 and n = 5ns : ', pQCD.constraints(e0=1.1,p0=1,n0=5*0.16))\n",
    "print('Check consistency of the point e = 1.0 GeV/fm3, p = 0.6 GeV/fm3 and n = 5ns : ', pQCD.constraints(e0=1,p0=0.6,n0=5*0.16))\n",
    "print('Check consistency of the point e = 1.0 GeV/fm3, p = 0.3 GeV/fm3 and n = 5ns : ', pQCD.constraints(e0=1,p0=0.3,n0=5*0.16))"
   ]
  },
  {
   "cell_type": "markdown",
   "id": "d0e484a4-453b-4a2e-ae1a-85fa1e58f025",
   "metadata": {},
   "source": [
    "# Likelihood function for QCD accounting for the scale-variation error"
   ]
  },
  {
   "cell_type": "markdown",
   "id": "106a1003-bb7b-42cb-86a3-1496e4a8bec1",
   "metadata": {},
   "source": [
    "We perform Monte-Carlo integration by randomly drawing $X$ values from the log-uniform distribution in the range [1/2,2] and counting how frequently the given point satisfies the QCD condition\n"
   ]
  },
  {
   "cell_type": "code",
   "execution_count": 19,
   "id": "801a1464-49b1-49c4-a369-5b76fe2536c2",
   "metadata": {},
   "outputs": [
    {
     "name": "stdout",
     "output_type": "stream",
     "text": [
      "Bayesian weight of the point e = 1.1 GeV/fm3, p = 1.0 GeV/fm3 and n = 5ns :  0.0\n",
      "Bayesian weight of the point e = 1.0 GeV/fm3, p = 0.6 GeV/fm3 and n = 5ns :  0.869\n",
      "Bayesian weight of the point e = 1.0 GeV/fm3, p = 0.3 GeV/fm3 and n = 5ns :  1.0\n"
     ]
    }
   ],
   "source": [
    "from pQCD import pQCD\n",
    "\n",
    "N = 1000 \n",
    "weight1 = np.zeros(N)\n",
    "weight2 = np.zeros(N)\n",
    "weight3 = np.zeros(N)\n",
    "\n",
    "for i in range(1000):\n",
    "    \n",
    "    X = np.random.uniform( np.log(1/2), np.log(2) ) #Log-linear distribution\n",
    "    pQCDX = pQCD(np.exp(X)) #redefine class with new X\n",
    "    \n",
    "    # for each X assign 0 or 1 for given point\n",
    "    weight1[i] = int(pQCDX.constraints(e0=1.1,p0=1,n0=5*0.16)) \n",
    "    weight2[i] = int(pQCDX.constraints(e0=1,p0=0.6,n0=5*0.16))\n",
    "    weight3[i] = int(pQCDX.constraints(e0=1,p0=0.3,n0=5*0.16))\n",
    "\n",
    "#Averaging over all X\n",
    "print('Bayesian weight of the point e = 1.1 GeV/fm3, p = 1.0 GeV/fm3 and n = 5ns : ',weight1.mean())\n",
    "print('Bayesian weight of the point e = 1.0 GeV/fm3, p = 0.6 GeV/fm3 and n = 5ns : ',weight2.mean())\n",
    "print('Bayesian weight of the point e = 1.0 GeV/fm3, p = 0.3 GeV/fm3 and n = 5ns : ',weight3.mean())"
   ]
  },
  {
   "cell_type": "markdown",
   "id": "328e3db9-12a0-44a6-bb56-056d6fb1b6da",
   "metadata": {},
   "source": [
    "# (*Optional*) Agressive QCD constraints"
   ]
  },
  {
   "cell_type": "markdown",
   "id": "d39eac8e-c968-40eb-9f75-f8c7baa2c428",
   "metadata": {},
   "source": [
    "We can make the QCD cut more aggresive. For example, we can impose that the speed of sound squared be less than 1/3 in the region from the given point all the way to `muQCD`. \n",
    "\n",
    "In addition we can change the fixed scale `muQCD` to be 2.4 GeV instead of the default 2.6 GeV, as discussed in [2]."
   ]
  },
  {
   "cell_type": "code",
   "execution_count": 40,
   "id": "434962af-feaa-4df5-bb9c-953457d1e85e",
   "metadata": {},
   "outputs": [
    {
     "name": "stdout",
     "output_type": "stream",
     "text": [
      "Bayesian weight of the point e = 1.1 GeV/fm3, p = 1.0 GeV/fm3 and n = 5ns :  0.0\n",
      "Bayesian weight of the point e = 1.0 GeV/fm3, p = 0.6 GeV/fm3 and n = 5ns :  0.2\n",
      "Bayesian weight of the point e = 1.0 GeV/fm3, p = 0.3 GeV/fm3 and n = 5ns :  0.45\n"
     ]
    }
   ],
   "source": [
    "from pQCD import pQCD\n",
    "\n",
    "N = 1000 \n",
    "weight1 = np.zeros(N)\n",
    "weight2 = np.zeros(N)\n",
    "weight3 = np.zeros(N)\n",
    "\n",
    "for i in range(1000):\n",
    "    \n",
    "    X = np.random.uniform( np.log(1/2), np.log(2) )\n",
    "    pQCDX = pQCD(np.exp(X))\n",
    "\n",
    "    weight1[i] = int(pQCDX.constraints(e0=1.1,p0=1,n0=5*0.16, muQCD = 2.4, cs2 = 1/3)) \n",
    "    weight2[i] = int(pQCDX.constraints(e0=1,p0=0.6,n0=5*0.16, muQCD = 2.4, cs2 = 1/3))\n",
    "    weight3[i] = int(pQCDX.constraints(e0=1,p0=0.3,n0=5*0.16, muQCD = 2.4, cs2 = 1/3))\n",
    "\n",
    "print('Bayesian weight of the point e = 1.1 GeV/fm3, p = 1.0 GeV/fm3 and n = 5ns : ',weight1.mean())\n",
    "print('Bayesian weight of the point e = 1.0 GeV/fm3, p = 0.6 GeV/fm3 and n = 5ns : ',weight2.mean())\n",
    "print('Bayesian weight of the point e = 1.0 GeV/fm3, p = 0.3 GeV/fm3 and n = 5ns : ',weight3.mean())"
   ]
  },
  {
   "cell_type": "markdown",
   "id": "c2fb33d7-fed1-48f9-aba4-c4986111c6ff",
   "metadata": {},
   "source": [
    "# If you use the QCD likelihood function, please cite:\n",
    "\n",
    "**[1]** [`How perturbative QCD constrains the Equation of State at Neutron-Star densities`](https://arxiv.org/abs/2111.05350)\n",
    "```\n",
    "@article{Komoltsev:2021jzg,\n",
    "    author = \"Komoltsev, Oleg and Kurkela, Aleksi\",\n",
    "    title = \"{How perturbative QCD constrains the Equation of State at Neutron-Star densities}\",\n",
    "    eprint = \"2111.05350\",\n",
    "    archivePrefix = \"arXiv\",\n",
    "    primaryClass = \"nucl-th\",\n",
    "    month = \"11\",\n",
    "    year = \"2021\"\n",
    "}\n",
    "```\n",
    "**[2]** [`Ab-initio QCD calculations impact the inference of the neutron-star-matter equation of state`]()\n",
    "```\n",
    "\n",
    "@article{}\n",
    "```\n",
    "**[3]** [`Cold quark matter at N3LO: Soft contributions`](https://journals.aps.org/prd/abstract/10.1103/PhysRevD.104.074015)\n",
    "```\n",
    "@article{Gorda:2021kme,\n",
    "    author = {Gorda, Tyler and Kurkela, Aleksi and Paatelainen, Risto and S\\\"appi, Saga and Vuorinen, Aleksi},\n",
    "    title = \"{Cold quark matter at N3LO: Soft contributions}\",\n",
    "    eprint = \"2103.07427\",\n",
    "    archivePrefix = \"arXiv\",\n",
    "    primaryClass = \"hep-ph\",\n",
    "    reportNumber = \"HIP-2021-10/TH\",\n",
    "    doi = \"10.1103/PhysRevD.104.074015\",\n",
    "    journal = \"Phys. Rev. D\",\n",
    "    volume = \"104\",\n",
    "    number = \"7\",\n",
    "    pages = \"074015\",\n",
    "    year = \"2021\"\n",
    "}\n",
    "```\n",
    "\n",
    "### For any questions or suggestions: oleg.komoltsev@uis.no"
   ]
  }
 ],
 "metadata": {
  "kernelspec": {
   "display_name": "Python 3 (ipykernel)",
   "language": "python",
   "name": "python3"
  },
  "language_info": {
   "codemirror_mode": {
    "name": "ipython",
    "version": 3
   },
   "file_extension": ".py",
   "mimetype": "text/x-python",
   "name": "python",
   "nbconvert_exporter": "python",
   "pygments_lexer": "ipython3",
   "version": "3.8.3"
  }
 },
 "nbformat": 4,
 "nbformat_minor": 5
}
